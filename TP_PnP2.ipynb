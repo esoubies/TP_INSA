{
  "cells": [
    {
      "cell_type": "markdown",
      "metadata": {
        "id": "view-in-github",
        "colab_type": "text"
      },
      "source": [
        "<a href=\"https://colab.research.google.com/github/esoubies/TP_INSA/blob/master/TP_PnP2.ipynb\" target=\"_parent\"><img src=\"https://colab.research.google.com/assets/colab-badge.svg\" alt=\"Open In Colab\"/></a>"
      ]
    },
    {
      "cell_type": "markdown",
      "id": "47337546",
      "metadata": {
        "id": "47337546"
      },
      "source": [
        "# Plug-and-Play Image Restoration"
      ]
    },
    {
      "cell_type": "markdown",
      "id": "450402ce",
      "metadata": {
        "id": "450402ce"
      },
      "source": [
        "<a target=\"_blank\" href=\"https://colab.research.google.com/github/generativemodelingmva/generativemodelingmva.github.io/blob/main/tp2324/tp8_pnp.ipynb\">\n",
        "  <img src=\"https://colab.research.google.com/assets/colab-badge.svg\" alt=\"Open In Colab\"/>\n",
        "</a>"
      ]
    },
    {
      "cell_type": "markdown",
      "id": "88703323",
      "metadata": {
        "id": "88703323"
      },
      "source": [
        "<br/><br/><br/>\n",
        "\n",
        "This practical session is dedicated to the implementation of plug-and-play algorithms with pre-learned denoisers."
      ]
    },
    {
      "cell_type": "code",
      "execution_count": 1,
      "id": "93afa4ec",
      "metadata": {
        "id": "93afa4ec",
        "colab": {
          "base_uri": "https://localhost:8080/"
        },
        "outputId": "2b8f6bd2-6704-461c-db4a-7124f3d1e076"
      },
      "outputs": [
        {
          "output_type": "stream",
          "name": "stdout",
          "text": [
            "2.4.1+cu121\n",
            "cpu\n",
            "Collecting bm3d\n",
            "  Downloading bm3d-4.0.3-py3-none-any.whl.metadata (2.3 kB)\n",
            "Collecting bm4d>=4.2.5 (from bm3d)\n",
            "  Downloading bm4d-4.2.5-py3-none-any.whl.metadata (3.1 kB)\n",
            "Requirement already satisfied: numpy in /usr/local/lib/python3.10/dist-packages (from bm4d>=4.2.5->bm3d) (1.26.4)\n",
            "Requirement already satisfied: scipy>=1.13.0 in /usr/local/lib/python3.10/dist-packages (from bm4d>=4.2.5->bm3d) (1.13.1)\n",
            "Collecting PyWavelets (from bm4d>=4.2.5->bm3d)\n",
            "  Downloading pywavelets-1.7.0-cp310-cp310-manylinux_2_17_x86_64.manylinux2014_x86_64.whl.metadata (9.0 kB)\n",
            "Downloading bm3d-4.0.3-py3-none-any.whl (10 kB)\n",
            "Downloading bm4d-4.2.5-py3-none-any.whl (862 kB)\n",
            "\u001b[2K   \u001b[90m━━━━━━━━━━━━━━━━━━━━━━━━━━━━━━━━━━━━━━━━\u001b[0m \u001b[32m862.0/862.0 kB\u001b[0m \u001b[31m13.8 MB/s\u001b[0m eta \u001b[36m0:00:00\u001b[0m\n",
            "\u001b[?25hDownloading pywavelets-1.7.0-cp310-cp310-manylinux_2_17_x86_64.manylinux2014_x86_64.whl (4.5 MB)\n",
            "\u001b[2K   \u001b[90m━━━━━━━━━━━━━━━━━━━━━━━━━━━━━━━━━━━━━━━━\u001b[0m \u001b[32m4.5/4.5 MB\u001b[0m \u001b[31m23.1 MB/s\u001b[0m eta \u001b[36m0:00:00\u001b[0m\n",
            "\u001b[?25hInstalling collected packages: PyWavelets, bm4d, bm3d\n",
            "Successfully installed PyWavelets-1.7.0 bm3d-4.0.3 bm4d-4.2.5\n",
            "Collecting deepinv\n",
            "  Cloning https://github.com/deepinv/deepinv.git to /tmp/pip-install-zekm2zis/deepinv_a2454db68e5349d5921c1bf2c5c9e01d\n",
            "  Running command git clone --filter=blob:none --quiet https://github.com/deepinv/deepinv.git /tmp/pip-install-zekm2zis/deepinv_a2454db68e5349d5921c1bf2c5c9e01d\n",
            "  Resolved https://github.com/deepinv/deepinv.git to commit b4772aced28b6bab49640bbf5d0e37a10be3b7f9\n",
            "  Installing build dependencies ... \u001b[?25l\u001b[?25hdone\n",
            "  Getting requirements to build wheel ... \u001b[?25l\u001b[?25hdone\n",
            "  Preparing metadata (pyproject.toml) ... \u001b[?25l\u001b[?25hdone\n",
            "Collecting numpy<=1.26 (from deepinv)\n",
            "  Downloading numpy-1.26.0-cp310-cp310-manylinux_2_17_x86_64.manylinux2014_x86_64.whl.metadata (58 kB)\n",
            "\u001b[2K     \u001b[90m━━━━━━━━━━━━━━━━━━━━━━━━━━━━━━━━━━━━━━━━\u001b[0m \u001b[32m58.5/58.5 kB\u001b[0m \u001b[31m4.0 MB/s\u001b[0m eta \u001b[36m0:00:00\u001b[0m\n",
            "\u001b[?25hRequirement already satisfied: matplotlib in /usr/local/lib/python3.10/dist-packages (from deepinv) (3.7.1)\n",
            "Collecting hdf5storage (from deepinv)\n",
            "  Downloading hdf5storage-0.1.19-py2.py3-none-any.whl.metadata (24 kB)\n",
            "Requirement already satisfied: tqdm in /usr/local/lib/python3.10/dist-packages (from deepinv) (4.66.5)\n",
            "Requirement already satisfied: torch in /usr/local/lib/python3.10/dist-packages (from deepinv) (2.4.1+cu121)\n",
            "Requirement already satisfied: torchvision in /usr/local/lib/python3.10/dist-packages (from deepinv) (0.19.1+cu121)\n",
            "Collecting torchmetrics (from deepinv)\n",
            "  Downloading torchmetrics-1.4.2-py3-none-any.whl.metadata (19 kB)\n",
            "Requirement already satisfied: einops in /usr/local/lib/python3.10/dist-packages (from deepinv) (0.8.0)\n",
            "Collecting wandb (from deepinv)\n",
            "  Downloading wandb-0.18.3-py3-none-manylinux_2_17_x86_64.manylinux2014_x86_64.whl.metadata (9.7 kB)\n",
            "Requirement already satisfied: scipy in /usr/local/lib/python3.10/dist-packages (from deepinv) (1.13.1)\n",
            "Requirement already satisfied: h5py>=2.1 in /usr/local/lib/python3.10/dist-packages (from hdf5storage->deepinv) (3.11.0)\n",
            "Requirement already satisfied: contourpy>=1.0.1 in /usr/local/lib/python3.10/dist-packages (from matplotlib->deepinv) (1.3.0)\n",
            "Requirement already satisfied: cycler>=0.10 in /usr/local/lib/python3.10/dist-packages (from matplotlib->deepinv) (0.12.1)\n",
            "Requirement already satisfied: fonttools>=4.22.0 in /usr/local/lib/python3.10/dist-packages (from matplotlib->deepinv) (4.54.1)\n",
            "Requirement already satisfied: kiwisolver>=1.0.1 in /usr/local/lib/python3.10/dist-packages (from matplotlib->deepinv) (1.4.7)\n",
            "Requirement already satisfied: packaging>=20.0 in /usr/local/lib/python3.10/dist-packages (from matplotlib->deepinv) (24.1)\n",
            "Requirement already satisfied: pillow>=6.2.0 in /usr/local/lib/python3.10/dist-packages (from matplotlib->deepinv) (10.4.0)\n",
            "Requirement already satisfied: pyparsing>=2.3.1 in /usr/local/lib/python3.10/dist-packages (from matplotlib->deepinv) (3.1.4)\n",
            "Requirement already satisfied: python-dateutil>=2.7 in /usr/local/lib/python3.10/dist-packages (from matplotlib->deepinv) (2.8.2)\n",
            "Requirement already satisfied: filelock in /usr/local/lib/python3.10/dist-packages (from torch->deepinv) (3.16.1)\n",
            "Requirement already satisfied: typing-extensions>=4.8.0 in /usr/local/lib/python3.10/dist-packages (from torch->deepinv) (4.12.2)\n",
            "Requirement already satisfied: sympy in /usr/local/lib/python3.10/dist-packages (from torch->deepinv) (1.13.3)\n",
            "Requirement already satisfied: networkx in /usr/local/lib/python3.10/dist-packages (from torch->deepinv) (3.3)\n",
            "Requirement already satisfied: jinja2 in /usr/local/lib/python3.10/dist-packages (from torch->deepinv) (3.1.4)\n",
            "Requirement already satisfied: fsspec in /usr/local/lib/python3.10/dist-packages (from torch->deepinv) (2024.6.1)\n",
            "Collecting lightning-utilities>=0.8.0 (from torchmetrics->deepinv)\n",
            "  Downloading lightning_utilities-0.11.7-py3-none-any.whl.metadata (5.2 kB)\n",
            "Requirement already satisfied: click!=8.0.0,>=7.1 in /usr/local/lib/python3.10/dist-packages (from wandb->deepinv) (8.1.7)\n",
            "Collecting docker-pycreds>=0.4.0 (from wandb->deepinv)\n",
            "  Downloading docker_pycreds-0.4.0-py2.py3-none-any.whl.metadata (1.8 kB)\n",
            "Collecting gitpython!=3.1.29,>=1.0.0 (from wandb->deepinv)\n",
            "  Downloading GitPython-3.1.43-py3-none-any.whl.metadata (13 kB)\n",
            "Requirement already satisfied: platformdirs in /usr/local/lib/python3.10/dist-packages (from wandb->deepinv) (4.3.6)\n",
            "Requirement already satisfied: protobuf!=4.21.0,!=5.28.0,<6,>=3.19.0 in /usr/local/lib/python3.10/dist-packages (from wandb->deepinv) (3.20.3)\n",
            "Requirement already satisfied: psutil>=5.0.0 in /usr/local/lib/python3.10/dist-packages (from wandb->deepinv) (5.9.5)\n",
            "Requirement already satisfied: pyyaml in /usr/local/lib/python3.10/dist-packages (from wandb->deepinv) (6.0.2)\n",
            "Requirement already satisfied: requests<3,>=2.0.0 in /usr/local/lib/python3.10/dist-packages (from wandb->deepinv) (2.32.3)\n",
            "Collecting sentry-sdk>=1.0.0 (from wandb->deepinv)\n",
            "  Downloading sentry_sdk-2.16.0-py2.py3-none-any.whl.metadata (9.8 kB)\n",
            "Collecting setproctitle (from wandb->deepinv)\n",
            "  Downloading setproctitle-1.3.3-cp310-cp310-manylinux_2_5_x86_64.manylinux1_x86_64.manylinux_2_17_x86_64.manylinux2014_x86_64.whl.metadata (9.9 kB)\n",
            "Requirement already satisfied: setuptools in /usr/local/lib/python3.10/dist-packages (from wandb->deepinv) (71.0.4)\n",
            "Requirement already satisfied: six>=1.4.0 in /usr/local/lib/python3.10/dist-packages (from docker-pycreds>=0.4.0->wandb->deepinv) (1.16.0)\n",
            "Collecting gitdb<5,>=4.0.1 (from gitpython!=3.1.29,>=1.0.0->wandb->deepinv)\n",
            "  Downloading gitdb-4.0.11-py3-none-any.whl.metadata (1.2 kB)\n",
            "Requirement already satisfied: charset-normalizer<4,>=2 in /usr/local/lib/python3.10/dist-packages (from requests<3,>=2.0.0->wandb->deepinv) (3.3.2)\n",
            "Requirement already satisfied: idna<4,>=2.5 in /usr/local/lib/python3.10/dist-packages (from requests<3,>=2.0.0->wandb->deepinv) (3.10)\n",
            "Requirement already satisfied: urllib3<3,>=1.21.1 in /usr/local/lib/python3.10/dist-packages (from requests<3,>=2.0.0->wandb->deepinv) (2.2.3)\n",
            "Requirement already satisfied: certifi>=2017.4.17 in /usr/local/lib/python3.10/dist-packages (from requests<3,>=2.0.0->wandb->deepinv) (2024.8.30)\n",
            "Requirement already satisfied: MarkupSafe>=2.0 in /usr/local/lib/python3.10/dist-packages (from jinja2->torch->deepinv) (2.1.5)\n",
            "Requirement already satisfied: mpmath<1.4,>=1.1.0 in /usr/local/lib/python3.10/dist-packages (from sympy->torch->deepinv) (1.3.0)\n",
            "Collecting smmap<6,>=3.0.1 (from gitdb<5,>=4.0.1->gitpython!=3.1.29,>=1.0.0->wandb->deepinv)\n",
            "  Downloading smmap-5.0.1-py3-none-any.whl.metadata (4.3 kB)\n",
            "Downloading numpy-1.26.0-cp310-cp310-manylinux_2_17_x86_64.manylinux2014_x86_64.whl (18.2 MB)\n",
            "\u001b[2K   \u001b[90m━━━━━━━━━━━━━━━━━━━━━━━━━━━━━━━━━━━━━━━━\u001b[0m \u001b[32m18.2/18.2 MB\u001b[0m \u001b[31m50.6 MB/s\u001b[0m eta \u001b[36m0:00:00\u001b[0m\n",
            "\u001b[?25hDownloading hdf5storage-0.1.19-py2.py3-none-any.whl (53 kB)\n",
            "\u001b[2K   \u001b[90m━━━━━━━━━━━━━━━━━━━━━━━━━━━━━━━━━━━━━━━━\u001b[0m \u001b[32m53.6/53.6 kB\u001b[0m \u001b[31m4.3 MB/s\u001b[0m eta \u001b[36m0:00:00\u001b[0m\n",
            "\u001b[?25hDownloading torchmetrics-1.4.2-py3-none-any.whl (869 kB)\n",
            "\u001b[2K   \u001b[90m━━━━━━━━━━━━━━━━━━━━━━━━━━━━━━━━━━━━━━━━\u001b[0m \u001b[32m869.2/869.2 kB\u001b[0m \u001b[31m35.3 MB/s\u001b[0m eta \u001b[36m0:00:00\u001b[0m\n",
            "\u001b[?25hDownloading wandb-0.18.3-py3-none-manylinux_2_17_x86_64.manylinux2014_x86_64.whl (13.0 MB)\n",
            "\u001b[2K   \u001b[90m━━━━━━━━━━━━━━━━━━━━━━━━━━━━━━━━━━━━━━━━\u001b[0m \u001b[32m13.0/13.0 MB\u001b[0m \u001b[31m56.1 MB/s\u001b[0m eta \u001b[36m0:00:00\u001b[0m\n",
            "\u001b[?25hDownloading docker_pycreds-0.4.0-py2.py3-none-any.whl (9.0 kB)\n",
            "Downloading GitPython-3.1.43-py3-none-any.whl (207 kB)\n",
            "\u001b[2K   \u001b[90m━━━━━━━━━━━━━━━━━━━━━━━━━━━━━━━━━━━━━━━━\u001b[0m \u001b[32m207.3/207.3 kB\u001b[0m \u001b[31m15.6 MB/s\u001b[0m eta \u001b[36m0:00:00\u001b[0m\n",
            "\u001b[?25hDownloading lightning_utilities-0.11.7-py3-none-any.whl (26 kB)\n",
            "Downloading sentry_sdk-2.16.0-py2.py3-none-any.whl (313 kB)\n",
            "\u001b[2K   \u001b[90m━━━━━━━━━━━━━━━━━━━━━━━━━━━━━━━━━━━━━━━━\u001b[0m \u001b[32m313.8/313.8 kB\u001b[0m \u001b[31m22.3 MB/s\u001b[0m eta \u001b[36m0:00:00\u001b[0m\n",
            "\u001b[?25hDownloading setproctitle-1.3.3-cp310-cp310-manylinux_2_5_x86_64.manylinux1_x86_64.manylinux_2_17_x86_64.manylinux2014_x86_64.whl (30 kB)\n",
            "Downloading gitdb-4.0.11-py3-none-any.whl (62 kB)\n",
            "\u001b[2K   \u001b[90m━━━━━━━━━━━━━━━━━━━━━━━━━━━━━━━━━━━━━━━━\u001b[0m \u001b[32m62.7/62.7 kB\u001b[0m \u001b[31m5.1 MB/s\u001b[0m eta \u001b[36m0:00:00\u001b[0m\n",
            "\u001b[?25hDownloading smmap-5.0.1-py3-none-any.whl (24 kB)\n",
            "Building wheels for collected packages: deepinv\n",
            "  Building wheel for deepinv (pyproject.toml) ... \u001b[?25l\u001b[?25hdone\n",
            "  Created wheel for deepinv: filename=deepinv-0.2.1-py3-none-any.whl size=362039 sha256=29f448a644ad519bd45bc6d2eabf0d1d34e9a0f15ec1308f77128c38d9eecf50\n",
            "  Stored in directory: /tmp/pip-ephem-wheel-cache-zowmyh0s/wheels/80/30/bb/d6774469246ecf02f1c4aa2a789c19b2de8310a33001c0438a\n",
            "Successfully built deepinv\n",
            "Installing collected packages: smmap, setproctitle, sentry-sdk, numpy, lightning-utilities, docker-pycreds, gitdb, torchmetrics, hdf5storage, gitpython, wandb, deepinv\n",
            "  Attempting uninstall: numpy\n",
            "    Found existing installation: numpy 1.26.4\n",
            "    Uninstalling numpy-1.26.4:\n",
            "      Successfully uninstalled numpy-1.26.4\n",
            "Successfully installed deepinv-0.2.1 docker-pycreds-0.4.0 gitdb-4.0.11 gitpython-3.1.43 hdf5storage-0.1.19 lightning-utilities-0.11.7 numpy-1.26.0 sentry-sdk-2.16.0 setproctitle-1.3.3 smmap-5.0.1 torchmetrics-1.4.2 wandb-0.18.3\n"
          ]
        }
      ],
      "source": [
        "import numpy as np\n",
        "import torch\n",
        "from torch.fft import fft2, ifft2, fftshift, ifftshift\n",
        "import matplotlib.pyplot as plt\n",
        "import time\n",
        "\n",
        "import torch\n",
        "print(torch.__version__)\n",
        "pi = torch.pi\n",
        "if torch.cuda.is_available():\n",
        "    device = torch.device('cuda')\n",
        "else:\n",
        "    device = torch.device('cpu')\n",
        "print(device)\n",
        "\n",
        "!pip install bm3d\n",
        "# !pip install deepinv\n",
        "# or last version of deepinv:\n",
        "!pip install git+https://github.com/deepinv/deepinv.git#egg=deepinv\n",
        "import deepinv as dinv\n",
        "\n",
        "# Uncomment these two lines to download the files for this session\n",
        "# !wget https://perso.telecom-paristech.fr/aleclaire/mva/tp8.zip\n",
        "# !unzip tp8.zip"
      ]
    },
    {
      "cell_type": "code",
      "execution_count": null,
      "id": "T4BzQ6QPhjUl",
      "metadata": {
        "id": "T4BzQ6QPhjUl"
      },
      "outputs": [],
      "source": []
    },
    {
      "cell_type": "code",
      "execution_count": null,
      "id": "27f666bd",
      "metadata": {
        "id": "27f666bd"
      },
      "outputs": [],
      "source": [
        "def rgb2gray(u):\n",
        "    return 0.2989 * u[:,:,0] + 0.5870 * u[:,:,1] + 0.1140 * u[:,:,2]\n",
        "\n",
        "def str2(chars):\n",
        "    return \"{:.2f}\".format(chars)\n",
        "\n",
        "def psnr(uref,ut,M=1):\n",
        "    rmse = np.sqrt(np.mean((np.array(uref.cpu())-np.array(ut.cpu()))**2))\n",
        "    return 20*np.log10(M/rmse)\n",
        "\n",
        "def tensor2im(x):\n",
        "    return x.detach().cpu().permute(2,3,1,0).squeeze().clip(0,1)\n",
        "\n",
        "# viewimage\n",
        "import tempfile\n",
        "import IPython\n",
        "from skimage.transform import rescale\n",
        "\n",
        "def viewimage(im, normalize=True,vmin=0,vmax=1,z=2,order=0,titre='',displayfilename=False):\n",
        "    # By default, values are scaled with black=0 and white=1\n",
        "    # In order to adapt the dynamics to the image, enter vmin and vmax as None\n",
        "    im = im.detach().cpu().permute(2,3,1,0).squeeze()\n",
        "    imin= np.array(im).astype(np.float32)\n",
        "    channel_axis = 2 if len(im.shape)>2 else None\n",
        "    imin = rescale(imin, z, order=order, channel_axis=channel_axis)\n",
        "    if normalize:\n",
        "        if vmin is None:\n",
        "            vmin = imin.min()\n",
        "        if vmax is None:\n",
        "            vmax = imin.max()\n",
        "        imin-=vmin\n",
        "        if np.abs(vmax-vmin)>1e-10:\n",
        "            imin = (imin.clip(vmin,vmax)-vmin)/(vmax-vmin)\n",
        "        else:\n",
        "            imin = vmin\n",
        "    else:\n",
        "        imin=imin.clip(0,255)/255\n",
        "    imin=(imin*255).astype(np.uint8)\n",
        "    filename=tempfile.mktemp(titre+'.png')\n",
        "    if displayfilename:\n",
        "        print (filename)\n",
        "    plt.imsave(filename, imin, cmap='gray')\n",
        "    IPython.display.display(IPython.display.Image(filename))\n",
        "\n",
        "\n",
        "# alternative viewimage if the other one does not work:\n",
        "def Viewimage(im,dpi=100,cmap='gray'):\n",
        "    plt.figure(dpi=dpi)\n",
        "    if cmap is None:\n",
        "        plt.imshow(np.array(im))\n",
        "    else:\n",
        "        plt.imshow(np.array(im),cmap=cmap)\n",
        "    plt.axis('off')\n",
        "    plt.show()"
      ]
    },
    {
      "cell_type": "markdown",
      "id": "45b3baf5",
      "metadata": {
        "id": "45b3baf5"
      },
      "source": [
        "<br/><br/><br/>"
      ]
    },
    {
      "cell_type": "markdown",
      "id": "f307d160",
      "metadata": {
        "id": "f307d160"
      },
      "source": [
        "# Exercise 1: Plug-and-Play Image Deblurring (with periodic convolution)"
      ]
    },
    {
      "cell_type": "code",
      "execution_count": null,
      "id": "360daab2",
      "metadata": {
        "id": "360daab2"
      },
      "outputs": [],
      "source": [
        "# Open the image\n",
        "x0 = torch.tensor(plt.imread('im/simpson512crop.png'),device=device)\n",
        "# x0 = torch.tensor(plt.imread('im/parrots.png'),device=device); x0 = x0[100:356,370:626,:]\n",
        "# x0 = torch.tensor(plt.imread('im/marge2.png'),device=device)\n",
        "# x0 = torch.tensor(plt.imread('im/simpson512.png'),device=device)\n",
        "M,N,C = x0.shape\n",
        "# Permute dimensions to fit tensor convention\n",
        "x0 = x0.permute(2,0,1).unsqueeze(0)\n",
        "\n",
        "viewimage(x0)"
      ]
    },
    {
      "cell_type": "code",
      "execution_count": null,
      "id": "533cf4d6",
      "metadata": {
        "id": "533cf4d6",
        "scrolled": false
      },
      "outputs": [],
      "source": [
        "# Load a blur kernel\n",
        "kt = torch.tensor(np.loadtxt('kernels/kernel8.txt'))\n",
        "# kt = np.loadtxt('kernels/levin7.txt')\n",
        "(m,n) = kt.shape\n",
        "\n",
        "plt.imshow(kt)\n",
        "plt.title('Blur kernel')\n",
        "plt.show()\n",
        "\n",
        "# Embed the kernel in a MxNx3 image, and put center at pixel (0,0)\n",
        "k = torch.zeros((M,N),device=device)\n",
        "k[0:m,0:n] = kt/torch.sum(kt)\n",
        "k = torch.roll(k,(-int(m/2),-int(n/2)),(0,1))\n",
        "#k = k[:,:,None].repeat(1,1,3)\n",
        "#k = k.permute(2,0,1).unsqueeze(0)\n",
        "k = k[None,None,:,:]\n",
        "fk = fft2(k)\n",
        "\n",
        "viewimage(fftshift(k),vmin=None,vmax=None)\n"
      ]
    },
    {
      "cell_type": "markdown",
      "id": "8ae0fa5a",
      "metadata": {
        "id": "8ae0fa5a"
      },
      "source": [
        "## Test a pre-learned denoiser"
      ]
    },
    {
      "cell_type": "markdown",
      "id": "e422d176",
      "metadata": {
        "id": "e422d176"
      },
      "source": [
        "Compute a noisy image\n",
        "$$ y = x_0 + \\xi $$\n",
        "where $\\xi \\sim \\mathcal{N}(0,\\nu^2 \\mathsf{Id})$.\n",
        "Denoise the image $y$ by using a pre-learned denoiser."
      ]
    },
    {
      "cell_type": "code",
      "execution_count": null,
      "id": "4448cdb4",
      "metadata": {
        "id": "4448cdb4",
        "scrolled": false
      },
      "outputs": [],
      "source": [
        "nu = 2/255 # 0.15\n",
        "y = x0 + nu*torch.randn_like(x0,device=device)\n",
        "\n",
        "# Load the DRUNet denoiser\n",
        "# https://deepinv.github.io/deepinv/stubs/deepinv.models.DRUNet.html\n",
        "# D = dinv.models.DRUNet(pretrained='ckpts/drunet_color.pth').to(device)\n",
        "\n",
        "# Load the BM3D denoiser\n",
        "# https://deepinv.github.io/deepinv/stubs/deepinv.models.BM3D.html\n",
        "# D = dinv.models.BM3D().to(device)\n",
        "\n",
        "# Load the DnCNN denoiser (WARNING: the proposed weights are only trained for noise level sigma = 2/255)\n",
        "# https://deepinv.github.io/deepinv/stubs/deepinv.models.DnCNN.html\n",
        "D = dinv.models.DnCNN(pretrained='ckpts/dncnn_sigma2_color.pth').to(device)\n",
        "# D = dinv.models.DnCNN(pretrained='ckpts/dncnn_sigma2_lipschitz_color.pth').to(device)\n",
        "\n",
        "# TV denoiser (only in last version of deepinv)\n",
        "# Dtv = dinv.models.TVDenoiser().to(device)\n",
        "# def D(x,sigma):\n",
        "#   return Dtv(x,ths=2*sigma**2)\n",
        "\n",
        "# noisy image\n",
        "print('PSNR(x0,y) = %.2f'%psnr(x0,y))\n",
        "viewimage(y)\n",
        "# denoise image\n",
        "Dy = D(y,sigma=nu)\n",
        "print('PSNR(x0,Dy) = %.2f'%psnr(x0,Dy.detach()))\n",
        "viewimage(Dy)\n"
      ]
    },
    {
      "cell_type": "markdown",
      "id": "b48bcce3",
      "metadata": {
        "id": "b48bcce3"
      },
      "source": [
        "## Image deblurring with PnP-PGD"
      ]
    },
    {
      "cell_type": "markdown",
      "id": "4e3c8763",
      "metadata": {
        "id": "4e3c8763"
      },
      "source": [
        "Implement the forward model\n",
        "$$ y = A(x_0) + \\xi $$\n",
        "where $\\xi \\sim \\mathcal{N}(0,\\nu^2 \\mathsf{Id})$.\n",
        "Write functions implementing the operator $A(x)$ and the data-fidelity term $f(x)$."
      ]
    },
    {
      "cell_type": "code",
      "execution_count": null,
      "id": "de80a50d",
      "metadata": {
        "id": "de80a50d"
      },
      "outputs": [],
      "source": [
        "nu = .01  # noise level\n",
        "torch.manual_seed(1)  # fix random seed for reproducibility\n",
        "\n",
        "# Define corresponding operator and data-fidelity\n",
        "def A(x):\n",
        "    return ### TODO ###\n",
        "\n",
        "def f(x):\n",
        "    return ### TODO ###\n",
        "\n",
        "# Draw a sample of the direct model for image deblurring (apply blur and add Gaussian noise)\n",
        "### TODO ###\n",
        "\n",
        "viewimage(y)"
      ]
    },
    {
      "cell_type": "markdown",
      "id": "c46c2925",
      "metadata": {
        "id": "c46c2925"
      },
      "source": [
        "In this question, we will perform deblurring with the PnP-PGD algorithm\n",
        "$$ x_{k+1} = D_\\sigma \\circ (\\operatorname{Id} - \\tau \\nabla f) (x_k) $$\n",
        "where $f(x) = \\frac{1}{2\\nu^2} \\|Ax-y\\|_2^2$ is the data-fidelity term.\n",
        "\n",
        "Recall that $\\tau$ should be $< \\frac{2}{L}$ where $L$ is the Lipschitz constant of $\\nabla f$.\n",
        "\n",
        "Complete the following cell progressively, in order to address the following points:\n",
        "1. Implement the PnP-PGD algorithm, and display the deblurred image.\n",
        "2. Track the evolution of the PSNR.\n",
        "3. Track the evolution of the residual $r_n = \\frac{\\|x_n - x_{n-1}\\|}{\\|x_0\\|}$.\n",
        "4. Try to adjust the parameter $\\tau$ (gradient step size / strength of data-fidelity).\n",
        "5. Try to adjust the parameter $s$ (strength of the denoiser).\n",
        "6. Track the evolution of $v_n = \\frac{\\|D_\\sigma(a_n) - D_\\sigma(b_{n})\\|}{\\|a_n - b_n\\|}$ (which lower bounds the Lipschitz constant of $D_\\sigma$). <br/>\n",
        "  You may choose sequences $(a_n), (b_n)$ that depend on the last iterates without additional evaluations of $D_\\sigma$.\n",
        "7. Store the PSNR/Residual tables and compare with several denoisers."
      ]
    },
    {
      "cell_type": "code",
      "execution_count": null,
      "id": "e5c7964c",
      "metadata": {
        "id": "e5c7964c",
        "scrolled": false
      },
      "outputs": [],
      "source": [
        "tau = ###\n",
        "s = 2*nu  # strength of the denoiser (that is, sigma)\n",
        "\n",
        "# initialize with blurry image\n",
        "x = y.clone()\n",
        "\n",
        "psnrtab = []  # to store psnr\n",
        "rtab = []     # to store residual\n",
        "vtab = []     # to store denoiser variations\n",
        "\n",
        "niter = 100\n",
        "t0 = time.time()\n",
        "print('[%4d/%4d] [%.5f s] PSNR = %.2f'%(0,niter,0,psnr(x0,y)))\n",
        "\n",
        "for it in range(niter):\n",
        "\n",
        "    ### TODO ###\n",
        "\n",
        "    if (it+1)%10==0:\n",
        "        print('[%4d/%4d] [%.5f s] PSNR = %.2f'%(it+1,niter,time.time()-t0,psnrt))\n",
        "        viewimage(x)\n",
        "\n",
        "xpgd = x   # save for later comparisons\n",
        "\n",
        "plt.plot(psnrtab)\n",
        "plt.title('PSNR')\n",
        "plt.show()\n",
        "\n",
        "# plt.semilogy(rtab)\n",
        "# plt.title('Residual Norm')\n",
        "# plt.show()\n",
        "\n",
        "# plt.plot(vtab)\n",
        "# plt.title('Denoiser Variations')\n",
        "# plt.show()"
      ]
    },
    {
      "cell_type": "code",
      "execution_count": null,
      "id": "aa0ff500",
      "metadata": {
        "id": "aa0ff500"
      },
      "outputs": [],
      "source": [
        "# Save the tables obtained with various denoisers for later comparisons\n",
        "\n",
        "# psnrtabtmp = psnrtab.copy()\n",
        "# rtabtmp = rtab.copy()\n",
        "# vtabtmp = vtab.copy()\n",
        "# rtab_bm3d = rtab.copy()\n",
        "# psnrtab_bm3d = psnrtab.copy()\n",
        "# vtab_bm3d = vtab.copy()\n",
        "# rtab_drunet = rtab.copy()\n",
        "# psnrtab_drunet = psnrtab.copy()\n",
        "# vtab_drunet = vtab.copy()\n",
        "# rtab_dncnn = rtab.copy()\n",
        "# psnrtab_dncnn = psnrtab.copy()\n",
        "# vtab_dncnn = vtab.copy()\n",
        "# rtab_dncnnlip = rtab.copy()\n",
        "# psnrtab_dncnnlip = psnrtab.copy()\n",
        "# vtab_dncnnlip = vtab.copy()"
      ]
    },
    {
      "cell_type": "markdown",
      "id": "70d78ae4",
      "metadata": {
        "id": "70d78ae4"
      },
      "source": [
        "Compare with explicit regularizations (Tychonov, smoothTV)."
      ]
    },
    {
      "cell_type": "code",
      "execution_count": null,
      "id": "e9f034f4",
      "metadata": {
        "id": "e9f034f4",
        "scrolled": false
      },
      "outputs": [],
      "source": [
        "# Deblurring with Tychonov Regularization\n",
        "def tych_deblur(y,k,lam=0.01):\n",
        "    _,_,M,N = y.shape\n",
        "    xi = torch.arange(M)\n",
        "    ind = (xi>M/2)\n",
        "    xi[ind] = xi[ind]-M\n",
        "    zeta = torch.arange(N)\n",
        "    ind = (zeta>N/2)\n",
        "    zeta[ind] = zeta[ind]-N\n",
        "    Xi,Zeta = torch.meshgrid(xi,zeta,indexing='ij')\n",
        "    Xi = Xi[None,None,:,:].to(device)\n",
        "    Zeta = Zeta[None,None,:,:].to(device)\n",
        "    fh = torch.conj(fk)/(torch.abs(fk)**2 + 8 * lam * (torch.sin(pi*Xi/M)**2 + torch.sin(pi*Zeta/N)**2))\n",
        "    return ifft2(fft2(y)*fh).real\n",
        "\n",
        "xtych = tych_deblur(y,k)\n",
        "\n",
        "# Smooth TV regularization\n",
        "def stv_deblur(A,y,xinit,niter=1000,lam=0.002,ep=0.01,lr=None):\n",
        "    if lr is None:\n",
        "        lr = 1.9/(1+lam*8/ep)\n",
        "    x = xinit.clone().requires_grad_(True)\n",
        "    optim = torch.optim.SGD([x], lr=lr)\n",
        "    losslist = []\n",
        "    for it in range(niter):\n",
        "        d1 = torch.roll(x,-1,2) - x\n",
        "        d2 = torch.roll(x,-1,3) - x\n",
        "        reg = torch.sum(torch.sqrt(ep**2+d1**2+d2**2))\n",
        "        loss = torch.sum((A(x)-y)**2) + lam*reg\n",
        "        losslist.append(loss.item())\n",
        "        optim.zero_grad()\n",
        "        loss.backward()\n",
        "        optim.step()\n",
        "    return x.detach(),losslist\n",
        "\n",
        "xtv,losslist = stv_deblur(A,y,y.clone())\n",
        "# plt.plot(losslist)\n",
        "# plt.show()\n",
        "\n",
        "# Display the results\n",
        "print('PSNR(x0,xtych) = %.2f'%psnr(x0,xtych))\n",
        "viewimage(xtych)\n",
        "print('PSNR(x0,xtv) = %.2f'%psnr(x0,xtv))\n",
        "viewimage(xtv)"
      ]
    },
    {
      "cell_type": "markdown",
      "id": "a203a79e",
      "metadata": {
        "id": "a203a79e"
      },
      "source": [
        "Compare results obtained with PnP-PGD and with explicit regularizers."
      ]
    },
    {
      "cell_type": "code",
      "execution_count": null,
      "id": "a8efe6bc",
      "metadata": {
        "id": "a8efe6bc"
      },
      "outputs": [],
      "source": [
        "plt.figure(dpi=180)\n",
        "plt.subplot(2,2,1)\n",
        "plt.imshow(tensor2im(x0), cmap='gray')\n",
        "plt.title('Original',fontsize=8)\n",
        "# plt.imshow(tensor2im(y), cmap='gray')\n",
        "# plt.title('Degraded \\n PSNR='+str2(psnr(x0,y)),fontsize=8)\n",
        "plt.axis('off')\n",
        "plt.subplot(2,2,2)\n",
        "plt.imshow(tensor2im(xtych), cmap='gray')\n",
        "plt.title('Tychonov \\n PSNR='+str2(psnr(x0,xtych)),fontsize=8)\n",
        "plt.axis('off')\n",
        "plt.subplot(2,2,3)\n",
        "plt.imshow(tensor2im(xtv), cmap='gray')\n",
        "plt.title('SmoothTV \\n PSNR='+str2(psnr(x0,xtv)),fontsize=8)\n",
        "plt.axis('off')\n",
        "plt.subplot(2,2,4)\n",
        "plt.imshow(tensor2im(xpgd), cmap='gray')\n",
        "plt.title('PnP-PGD \\n PSNR='+str2(psnr(x0,xpgd)),fontsize=8)\n",
        "plt.axis('off')\n",
        "plt.show()"
      ]
    },
    {
      "cell_type": "markdown",
      "id": "43bc8d81",
      "metadata": {
        "id": "43bc8d81"
      },
      "source": [
        "Compare Residual Norms, PSNR, and Denoiser variations for various denoisers."
      ]
    },
    {
      "cell_type": "code",
      "execution_count": null,
      "id": "d0c5385d",
      "metadata": {
        "id": "d0c5385d",
        "scrolled": false
      },
      "outputs": [],
      "source": [
        "plt.figure(dpi=150)\n",
        "plt.semilogy(rtab_dncnn,label='DnCNN')\n",
        "plt.semilogy(rtab_dncnnlip,label='DnCNNLip')\n",
        "plt.semilogy(rtab_drunet,label='DRUNet')\n",
        "plt.semilogy(rtab_bm3d,label='BM3D')\n",
        "plt.legend()\n",
        "plt.title('Residual Norm')\n",
        "plt.show()\n",
        "\n",
        "plt.figure(dpi=150)\n",
        "plt.plot(psnrtab_dncnn,label='DnCNN')\n",
        "plt.plot(psnrtab_dncnnlip,label='DnCNNLip')\n",
        "plt.plot(psnrtab_drunet,label='DRUNet')\n",
        "plt.plot(psnrtab_bm3d,label='BM3D')\n",
        "plt.plot([psnr(x0,xtv)]*niter,label='smoothTV')\n",
        "plt.plot([psnr(x0,xtych)]*niter,label='Tychonov')\n",
        "plt.legend()\n",
        "plt.title('PSNR')\n",
        "plt.show()\n",
        "\n",
        "plt.figure(dpi=150)\n",
        "plt.plot(vtab_dncnn,label='DnCNN')\n",
        "plt.plot(vtab_dncnnlip,label='DnCNNLip')\n",
        "plt.plot(vtab_drunet,label='DRUNet')\n",
        "plt.plot(vtab_bm3d,label='BM3D')\n",
        "plt.legend()\n",
        "plt.title('Denoiser Variations')\n",
        "plt.show()"
      ]
    },
    {
      "cell_type": "markdown",
      "id": "09dbb0ec",
      "metadata": {
        "id": "09dbb0ec"
      },
      "source": [
        "<br/><br/>"
      ]
    },
    {
      "cell_type": "markdown",
      "id": "bacb760d",
      "metadata": {
        "id": "bacb760d"
      },
      "source": [
        "## Image deblurring with PnP-HQS"
      ]
    },
    {
      "cell_type": "markdown",
      "id": "0f97cd50",
      "metadata": {
        "id": "0f97cd50"
      },
      "source": [
        "Implement the proximal operator of the data-fidelity term:\n",
        "$$\\mathsf{Prox}_{\\tau f}(x) = \\left( \\frac{1}{\\nu^2} A^T A + \\frac{1}{\\tau} \\mathsf{Id} \\right)^{-1} \\left( \\frac{1}{\\nu^2} A^T y + \\frac{1}{\\tau} x \\right) .$$\n",
        "Since $A$ is here a periodic convolution, this calculation can be done in Fourier domain."
      ]
    },
    {
      "cell_type": "code",
      "execution_count": null,
      "id": "68911bcc",
      "metadata": {
        "id": "68911bcc"
      },
      "outputs": [],
      "source": [
        "def proxf(x,tau):\n",
        "    ### TODO ###"
      ]
    },
    {
      "cell_type": "markdown",
      "id": "8c215975",
      "metadata": {
        "id": "8c215975"
      },
      "source": [
        "Implement the PnP-HQS algorithm\n",
        "$$ x_{k+1} = D_\\sigma \\circ \\mathsf{Prox}_{\\tau f} (x_k) .$$"
      ]
    },
    {
      "cell_type": "code",
      "execution_count": null,
      "id": "9a23e12d",
      "metadata": {
        "id": "9a23e12d",
        "scrolled": false
      },
      "outputs": [],
      "source": [
        "### TODO ###"
      ]
    },
    {
      "cell_type": "markdown",
      "id": "5ae2d90f",
      "metadata": {
        "id": "5ae2d90f"
      },
      "source": [
        "## Image deblurring with PnP-DRS\n",
        "\n",
        "Implement the PnP-DRS algorithm\n",
        "$$ x_{k+1} = \\left(\\frac{1}{2} \\mathsf{Id} + \\frac{1}{2} (2 D_\\sigma - \\mathsf{Id}) \\circ (2\\mathsf{Prox}_{\\tau f}-\\mathsf{Id})\\right) (x_k) .$$\n",
        "Recall that the solution of the inverse problem is obtained after one proximal step\n",
        "$$ \\tilde{x}_k = \\mathsf{Prox}_{\\tau f} (x_k) .$$"
      ]
    },
    {
      "cell_type": "code",
      "execution_count": null,
      "id": "4e845111",
      "metadata": {
        "id": "4e845111"
      },
      "outputs": [],
      "source": [
        "### TODO ###"
      ]
    },
    {
      "cell_type": "markdown",
      "id": "67c8c1d7",
      "metadata": {
        "id": "67c8c1d7"
      },
      "source": [
        "<br/><br/><br/>"
      ]
    },
    {
      "cell_type": "markdown",
      "id": "9801cd91",
      "metadata": {
        "id": "9801cd91"
      },
      "source": [
        "# Exercise 2: Image deblurring with non-periodic boundary conditions\n",
        "\n",
        "Implement a PnP algorithm that addresses image deblurring with non-periodic boundary conditions.\n",
        "\n",
        "You should adapt the codes written in the previous cells for this new forward model. We advise you to make a copy of the whole notebook and to make the adaptation in a separate file.\n",
        "\n",
        "Which PnP splitting method can you use for this particular setting?\n",
        "\n",
        "<br/><br/><br/>"
      ]
    },
    {
      "cell_type": "markdown",
      "id": "6e90bf44",
      "metadata": {
        "id": "6e90bf44"
      },
      "source": [
        "# Exercise 3: Image super-resolution\n",
        "\n",
        "Implement a PnP algorithm that addresses image deblurring with non-periodic boundary conditions.\n",
        "\n",
        "You should adapt the codes written in the previous cells for super-resolution. The forward model for super-resolution involves an anti-aliasing filter whose Fourier transform is given in the next cell.\n",
        "\n",
        "We advise you to make a copy of the whole notebook and to make the adaptation in a separate file."
      ]
    },
    {
      "cell_type": "code",
      "execution_count": null,
      "id": "378aa337",
      "metadata": {
        "id": "378aa337"
      },
      "outputs": [],
      "source": [
        "# Adjust the framework to address super-resolution with smoothed TV\n",
        "# For anti-aliasing, you may use the Butterworth filter of order n and cut-off frequency fc\n",
        "#   given below\n",
        "\n",
        "# fc is the cut-off frequency normalized in (0,1)\n",
        "def butterworth(M,N,fc=.5,order=5):\n",
        "    xi = torch.arange(M)\n",
        "    ind = (xi>M/2)\n",
        "    xi[ind] = xi[ind]-M\n",
        "    zeta = torch.arange(N)\n",
        "    ind = (zeta>N/2)\n",
        "    zeta[ind] = zeta[ind]-N\n",
        "    Xi,Zeta = torch.meshgrid(xi,zeta,indexing='ij')\n",
        "    Xi = Xi[None,None,:,:].to(device)\n",
        "    Zeta = Zeta[None,None,:,:].to(device)\n",
        "    bf1 = 1/torch.sqrt(1+(Xi/(M*fc/2))**(2*order))\n",
        "    bf2 = 1/torch.sqrt(1+(Zeta/(N*fc/2))**(2*order))\n",
        "    return bf1*bf2\n",
        "\n",
        "bf = butterworth(M,N)\n",
        "viewimage(bf)\n",
        "\n",
        "# Use example:\n",
        "bf = butterworth(x0.shape[2],x0.shape[3],fc=.5)\n",
        "x0f = ifft2(bf*fft2(x0)).real\n",
        "\n",
        "viewimage(x0)\n",
        "viewimage(x0f)"
      ]
    }
  ],
  "metadata": {
    "colab": {
      "provenance": [],
      "include_colab_link": true
    },
    "kernelspec": {
      "display_name": "Python 3 (ipykernel)",
      "language": "python",
      "name": "python3"
    },
    "language_info": {
      "codemirror_mode": {
        "name": "ipython",
        "version": 3
      },
      "file_extension": ".py",
      "mimetype": "text/x-python",
      "name": "python",
      "nbconvert_exporter": "python",
      "pygments_lexer": "ipython3",
      "version": "3.8.10"
    }
  },
  "nbformat": 4,
  "nbformat_minor": 5
}